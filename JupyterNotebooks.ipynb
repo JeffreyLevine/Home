{
 "cells": [
  {
   "cell_type": "markdown",
   "metadata": {},
   "source": [
    "<img src=\"JN.jpg\" width=\"400\" height=\"400\" align=\"left\"/>"
   ]
  },
  {
   "cell_type": "markdown",
   "metadata": {},
   "source": [
    "### This page is in progress...\n",
    "* Please come back soon\n",
    "* Return to [JeffreyLevine.com](http://www.jeffreylevine.com) or check out below\n",
    "* Thanks, Jeff\n",
    "  * [Use Jupyter's NB Viewer](https://nbviewer.jupyter.org/github/JeffreyLevine/Notebooks/blob/master/JupyterNotebooks.ipynb)\n",
    "  * [Jupyter Home](http://jupyter.org)\n",
    "  * [Jupyter Notebooks Gallery](https://github.com/jupyter/jupyter/wiki/A-gallery-of-interesting-Jupyter-Notebooks)\n",
    "  * [Try Jupyter Notebooks](https://try.jupyter.org)"
   ]
  }
 ],
 "metadata": {
  "anaconda-cloud": {},
  "kernelspec": {
   "display_name": "R",
   "language": "R",
   "name": "ir"
  },
  "language_info": {
   "codemirror_mode": "r",
   "file_extension": ".r",
   "mimetype": "text/x-r-source",
   "name": "R",
   "pygments_lexer": "r",
   "version": "3.4.1"
  }
 },
 "nbformat": 4,
 "nbformat_minor": 1
}
